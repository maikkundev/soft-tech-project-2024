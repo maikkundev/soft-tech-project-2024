{
 "cells": [
  {
   "cell_type": "code",
   "execution_count": 4,
   "id": "7c0f71d1-98bd-443e-a4e9-d3b3dd7a578c",
   "metadata": {},
   "outputs": [],
   "source": [
    "from sklearn.cluster import KMeans\n",
    "from scipy.spatial.distance import pdist\n",
    "from scipy.cluster import hierarchy\n",
    "from scipy.cluster.hierarchy import fcluster\n",
    "from sklearn.metrics import silhouette_score\n",
    "\n",
    "\n",
    "#Function that implements the k-means clustering algorithm\n",
    "def kmeans_algorithm(data_frame):\n",
    "    while True:\n",
    "        try:\n",
    "            n_clusters = input('Specify the number of clusters \"k\" for the k-means clustering algorithm: ')\n",
    "            n_clusters = int(n_clusters)\n",
    "            break\n",
    "        except:\n",
    "            print('Invalid input. Please try again')\n",
    "    X = data_frame.iloc[:, :-1]\n",
    "    kmeans = KMeans(n_clusters=n_clusters)\n",
    "    kmeans.fit(X)\n",
    "    labels = kmeans.labels_\n",
    "    inertia = kmeans.inertia_\n",
    "    silhouette = round((silhouette_score(X, labels)*100),2)\n",
    "    print(f\"Silhouette Score: {silhouette}\")\n",
    "\n",
    "#Function that implements the Hierarchical clustering algorithm\n",
    "def hierarchical_clustering(data, linkage='ward'):\n",
    "    data = data_preprocess_for_the_clustering_algorithms(data.iloc[:, :-1])\n",
    "    metrics = {\n",
    "    \"1\": \"euclidean\",\n",
    "    \"2\": \"cityblock\",\n",
    "    \"3\": \"minkowski\",\n",
    "    \"4\": \"chebyshev\" \n",
    "    }\n",
    "    \n",
    "    print(\"Available Distance Metrics:\")\n",
    "    print(tabulate(metrics.items(), headers=[\"Metric\"], tablefmt=\"fancy_grid\"))\n",
    "\n",
    "    while True:\n",
    "        try:\n",
    "            metric_choice = input('Type the corresponding number of the metric you would like to use for clustering: ')\n",
    "            metric_choice = int(metric_choice)\n",
    "            if 1 <= metric_choice <= 4:  # Use inclusive range for valid options (1-4)\n",
    "                break\n",
    "            else:\n",
    "                print('There are only 4 options. Please try again')\n",
    "                continue\n",
    "        except ValueError:\n",
    "            print('Invalid input. Please enter a number between 1 and 4.')\n",
    "\n",
    "    metric = metrics[str(metric_choice)]\n",
    "            \n",
    "    distance_matrix = pdist(data, metric=metric)\n",
    "    cluster_result = hierarchy.linkage(distance_matrix, method=linkage)\n",
    "    cluster_labels = fcluster(cluster_result, 2, criterion='maxclust')\n",
    "    silhouette = round((silhouette_score(data, cluster_labels, metric=metric) * 100), 3)\n",
    "    print(f\"Silhouette Score: {silhouette}\")"
   ]
  },
  {
   "cell_type": "code",
   "execution_count": null,
   "id": "fe6b889e-7d7b-40ee-a709-8b2fb1565feb",
   "metadata": {},
   "outputs": [],
   "source": []
  }
 ],
 "metadata": {
  "kernelspec": {
   "display_name": "Python 3 (ipykernel)",
   "language": "python",
   "name": "python3"
  },
  "language_info": {
   "codemirror_mode": {
    "name": "ipython",
    "version": 3
   },
   "file_extension": ".py",
   "mimetype": "text/x-python",
   "name": "python",
   "nbconvert_exporter": "python",
   "pygments_lexer": "ipython3",
   "version": "3.11.5"
  }
 },
 "nbformat": 4,
 "nbformat_minor": 5
}
