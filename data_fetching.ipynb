{
 "cells": [
  {
   "cell_type": "code",
   "execution_count": 16,
   "id": "f6ed5f59-d0ec-44e6-97b4-f83bf877f10f",
   "metadata": {
    "tags": []
   },
   "outputs": [
    {
     "name": "stdin",
     "output_type": "stream",
     "text": [
      "Import a csv or an excel file:  2.csv\n"
     ]
    }
   ],
   "source": [
    "import os\n",
    "import pandas as pd\n",
    "\n",
    "#Function to prompt the user to provide the filename.\n",
    "def get_filename():\n",
    "    \n",
    "    while True:\n",
    "        filename = input('Import a csv or an excel file: ')\n",
    "        if os.path.exists(filename):\n",
    "            if filename.split('.')[-1].lower() == 'csv' or filename.split('.')[-1].lower() == 'xlsx':\n",
    "                return filename\n",
    "            else:\n",
    "                print('Invalid file format. Please try again')\n",
    "        else:\n",
    "            print(f'Error: There is no file called: {filename}. Please try again.')\n",
    "    \n",
    "#Funtion to read the file based on its extension.    \n",
    "def read_file(filename,file_extension):\n",
    "    \n",
    "    if file_extension == 'csv':\n",
    "        while True:\n",
    "            delim_1 = ';'\n",
    "            delim_2 = ','\n",
    "            data_1 = pd.read_csv(filename, delimiter = delim_1)\n",
    "            data_2 = pd.read_csv(filename, delimiter = delim_2)\n",
    "            if len(data_1.columns) > 1:\n",
    "                return data_1\n",
    "            elif len(data_2.columns) > 1:\n",
    "                return data_2\n",
    "            else:\n",
    "                print('The file you provided uses an invalid delimiter. Modify the delimiter either to \";\" or to \",\".')\n",
    "    else:\n",
    "        return pd.read_excel(filename)\n",
    "    \n",
    "filename = get_filename()\n",
    "file_extension = filename.split('.')[-1].lower()\n",
    "data_frame = read_file(filename,file_extension)"
   ]
  },
  {
   "cell_type": "code",
   "execution_count": null,
   "id": "b0410bf9-b541-4428-90ba-4b8db8fff79a",
   "metadata": {},
   "outputs": [],
   "source": []
  }
 ],
 "metadata": {
  "kernelspec": {
   "display_name": "Python 3 (ipykernel)",
   "language": "python",
   "name": "python3"
  },
  "language_info": {
   "codemirror_mode": {
    "name": "ipython",
    "version": 3
   },
   "file_extension": ".py",
   "mimetype": "text/x-python",
   "name": "python",
   "nbconvert_exporter": "python",
   "pygments_lexer": "ipython3",
   "version": "3.11.5"
  }
 },
 "nbformat": 4,
 "nbformat_minor": 5
}
