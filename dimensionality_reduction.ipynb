{
 "cells": [
  {
   "cell_type": "code",
   "execution_count": null,
   "id": "c42c17f1-6d97-43fc-8b9e-4626b1649103",
   "metadata": {},
   "outputs": [],
   "source": [
    "import pandas as pd\n",
    "from sklearn.decomposition import PCA\n",
    "from sklearn.manifold import TSNE\n",
    "\n",
    "#Function that performs dimensionality reduction using the PCA algorithm\n",
    "def perform_pca(data, n_components):\n",
    "    pca = PCA(n_components = n_components)\n",
    "    pca.fit(data)\n",
    "    return pd.DataFrame(pca.transform(data))\n",
    "\n",
    "#Function that performs dimensionality reduction using the t-SNE algorithm\n",
    "def perform_tSNE(df, n_components = 2):\n",
    "    features = df.copy()\n",
    "    tsne = TSNE(n_components=n_components)\n",
    "    new_features = tsne.fit_transform(features)\n",
    "    return pd.DataFrame(new_features)"
   ]
  }
 ],
 "metadata": {
  "kernelspec": {
   "display_name": "Python 3 (ipykernel)",
   "language": "python",
   "name": "python3"
  },
  "language_info": {
   "codemirror_mode": {
    "name": "ipython",
    "version": 3
   },
   "file_extension": ".py",
   "mimetype": "text/x-python",
   "name": "python",
   "nbconvert_exporter": "python",
   "pygments_lexer": "ipython3",
   "version": "3.11.5"
  }
 },
 "nbformat": 4,
 "nbformat_minor": 5
}
