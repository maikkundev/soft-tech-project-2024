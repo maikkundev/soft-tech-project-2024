{
 "cells": [
  {
   "cell_type": "code",
   "execution_count": 3,
   "id": "3ad6bca8-ae92-4016-8ea3-2a11691f6407",
   "metadata": {
    "tags": []
   },
   "outputs": [],
   "source": [
    "import pandas as pd\n",
    "import numpy as np\n",
    "from sklearn.preprocessing import StandardScaler\n",
    "from sklearn.decomposition import PCA\n",
    "\n",
    "#Function that fills the missing values with the mean of the variables\n",
    "def fill_missing_values(df):\n",
    "    df_filled = df.fillna(df.mean())\n",
    "    return df_filled   \n",
    "\n",
    "#Function that removes the duplicate instances\n",
    "def remove_duplicates(data):\n",
    "    df_without_duplicates = data.drop_duplicates()\n",
    "    return df_without_duplicates\n",
    "\n",
    "#Function that encodes categorical data into numerical\n",
    "def encode_categorical_data(data):\n",
    "    for column in data.columns[:]:\n",
    "        if data[column].dtype == 'object':\n",
    "            data[column] = pd.Categorical(data[column]).codes\n",
    "    return data\n",
    "\n",
    "#Function that removes the outliers\n",
    "def remove_outliers_iqr(df, iqr_factor=1.5):\n",
    "    conditions = []\n",
    "    for col in df.columns[:]:\n",
    "        lower_bound = df[col].quantile(5 / 100)\n",
    "        upper_bound = df[col].quantile(95 / 100)\n",
    "        condition = (df[col] < lower_bound) | (df[col] > upper_bound)\n",
    "        conditions.append(condition)\n",
    "        \n",
    "    combined_condition = ~pd.concat(conditions, axis=1).any(axis=1)\n",
    "    return df[combined_condition]\n",
    "\n",
    "#Function that performs dimensionality reduction using the PCA algorithm\n",
    "def perform_pca(data):\n",
    "    if len(data.columns) >10:\n",
    "        pca = PCA(n_components = 10)\n",
    "        pca.fit(data)\n",
    "        return pd.DataFrame(pca.transform(data))\n",
    "\n",
    "#Function for the preprocess of the data\n",
    "def data_preprocess_for_the_clustering_algorithms(data):\n",
    "    data = fill_missing_values(data)\n",
    "    data = remove_duplicates(data)\n",
    "    data = encode_categorical_data(data)\n",
    "    data = remove_outliers_iqr(data)\n",
    "    data = perform_pca(data)\n",
    "    return data"
   ]
  }
 ],
 "metadata": {
  "kernelspec": {
   "display_name": "Python 3 (ipykernel)",
   "language": "python",
   "name": "python3"
  },
  "language_info": {
   "codemirror_mode": {
    "name": "ipython",
    "version": 3
   },
   "file_extension": ".py",
   "mimetype": "text/x-python",
   "name": "python",
   "nbconvert_exporter": "python",
   "pygments_lexer": "ipython3",
   "version": "3.11.5"
  }
 },
 "nbformat": 4,
 "nbformat_minor": 5
}
