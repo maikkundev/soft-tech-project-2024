{
 "cells": [
  {
   "cell_type": "code",
   "execution_count": 125,
   "id": "85d11229-1ac0-409c-b035-dec0a4521e6f",
   "metadata": {
    "tags": []
   },
   "outputs": [
    {
     "name": "stdin",
     "output_type": "stream",
     "text": [
      "Import a csv or an excel file:  1.csv\n",
      "Please enter the delimiter of the csv file. It must be either \";\" or \",\":  ;\n",
      "Specify the number of neighboors \"k\" for the kNN classification:  8\n"
     ]
    },
    {
     "name": "stderr",
     "output_type": "stream",
     "text": [
      "/Users/gabrielkoskinas/anaconda3/lib/python3.11/site-packages/sklearn/base.py:464: UserWarning: X does not have valid feature names, but KNeighborsClassifier was fitted with feature names\n",
      "  warnings.warn(\n"
     ]
    },
    {
     "name": "stdout",
     "output_type": "stream",
     "text": [
      "Accuracy: 62.26\n",
      "Precision: 62.26\n",
      "Recall: 62.26\n",
      "F1-Score:\n",
      " 62.26\n",
      "Confusion Matrix:\n",
      " [[176 114  26]\n",
      " [ 40 344  34]\n",
      " [ 42  78  31]]\n"
     ]
    },
    {
     "name": "stdin",
     "output_type": "stream",
     "text": [
      "Specify the number of clusters \"k\" for the k-means clustering algorithm:  4\n"
     ]
    },
    {
     "name": "stderr",
     "output_type": "stream",
     "text": [
      "/Users/gabrielkoskinas/anaconda3/lib/python3.11/site-packages/sklearn/cluster/_kmeans.py:1412: FutureWarning: The default value of `n_init` will change from 10 to 'auto' in 1.4. Set the value of `n_init` explicitly to suppress the warning\n",
      "  super()._check_params_vs_input(X, default_n_init=10)\n"
     ]
    },
    {
     "name": "stdout",
     "output_type": "stream",
     "text": [
      "Silhouette Score: 70.62\n"
     ]
    }
   ],
   "source": [
    "import os\n",
    "import pandas as pd\n",
    "from sklearn.model_selection import train_test_split\n",
    "from sklearn.neighbors import KNeighborsClassifier\n",
    "from sklearn.metrics import accuracy_score, precision_score, recall_score, confusion_matrix, f1_score\n",
    "from scipy import stats\n",
    "import numpy as np\n",
    "from sklearn.cluster import KMeans\n",
    "from sklearn.metrics import silhouette_score\n",
    "\n",
    "#Function to prompt the user to provide the filename.\n",
    "def get_filename():\n",
    "    \n",
    "    while True:\n",
    "        filename = input('Import a csv or an excel file: ')\n",
    "        if os.path.exists(filename):\n",
    "            if filename.split('.')[-1].lower() == 'csv' or filename.split('.')[-1].lower() == 'xlsx':\n",
    "                return filename\n",
    "            else:\n",
    "                print('Invalid file format. Please try again')\n",
    "        else:\n",
    "            print(f'Error: There is no file called: {filename}. Please try again.')\n",
    "    \n",
    "#Funtion to read a file based on its extension.    \n",
    "def read_file(filename,file_extension):\n",
    "    \n",
    "    if file_extension == 'csv':\n",
    "        while True:\n",
    "            delim = input('Please enter the delimiter of the csv file. It must be either \";\" or \",\": ')\n",
    "            if delim == ',' or delim == ';':\n",
    "                return pd.read_csv(filename, delimiter = delim)\n",
    "            else:\n",
    "                print('Invalid delimiter. Please try again.')\n",
    "    else:\n",
    "        return pd.read_excel(filename)         \n",
    "\n",
    "#Function for the kNN algorithm\n",
    "def kNN_algorithm(data_frame):\n",
    "    X = data_frame.iloc[:, :-1]\n",
    "    y = data_frame.iloc[:, -1]\n",
    "    unique_classes = y.unique()\n",
    "    X_train, X_test, y_train, y_test = train_test_split(X, y, test_size=0.2, random_state=42)\n",
    "    while True:\n",
    "        try:\n",
    "            k = input('Specify the number of neighboors \"k\" for the kNN classification: ')\n",
    "            k = int(k)\n",
    "            break\n",
    "        except:\n",
    "            print('Invalid input. Please try again')\n",
    "    knn = KNeighborsClassifier(n_neighbors=k)\n",
    "    knn.fit(X_train, y_train)\n",
    "    y_pred = knn.predict(X_test.values)\n",
    "    accuracy = round((accuracy_score(y_test, y_pred)*100),2)\n",
    "    precision = round((precision_score(y_test, y_pred, labels=unique_classes, average='micro')*100),2)\n",
    "    recall = round((recall_score(y_test, y_pred, labels=unique_classes, average='micro')*100),2)\n",
    "    cm = confusion_matrix(y_test, y_pred, labels=unique_classes)\n",
    "    f1 = round((f1_score(y_test, y_pred, average='micro')*100),3)\n",
    "\n",
    "    print(\"Accuracy:\", accuracy)\n",
    "    print(\"Precision:\", precision)\n",
    "    print(\"Recall:\", recall)\n",
    "    print(\"F1-Score:\\n\", f1)\n",
    "    print(\"Confusion Matrix:\\n\", cm)\n",
    "\n",
    "#Function for the k-means algorithm\n",
    "def kmeans_algorithm(data_frame):\n",
    "    while True:\n",
    "        try:\n",
    "            k = input('Specify the number of clusters \"k\" for the k-means clustering algorithm: ')\n",
    "            k = int(k)\n",
    "            break\n",
    "        except:\n",
    "            print('Invalid input. Please try again')\n",
    "    X = data_frame.iloc[:, :-1]\n",
    "    kmeans = KMeans(n_clusters=k)\n",
    "    kmeans.fit(X)\n",
    "    labels = kmeans.labels_\n",
    "    inertia = kmeans.inertia_\n",
    "    silhouette = round((silhouette_score(X, labels)*100),2)\n",
    "    print(f\"Silhouette Score: {silhouette}\")\n",
    "\n",
    "    \n",
    "    \n",
    "    \n",
    "filename = get_filename()\n",
    "file_extension = filename.split('.')[-1].lower()\n",
    "data_frame = read_file(filename,file_extension)\n",
    "kNN_algorithm(data_frame)\n",
    "kmeans_algorithm(data_frame)"
   ]
  },
  {
   "cell_type": "code",
   "execution_count": null,
   "id": "a0fba91f-1cc4-4323-a1d0-857618c970d7",
   "metadata": {},
   "outputs": [],
   "source": []
  }
 ],
 "metadata": {
  "kernelspec": {
   "display_name": "Python 3 (ipykernel)",
   "language": "python",
   "name": "python3"
  },
  "language_info": {
   "codemirror_mode": {
    "name": "ipython",
    "version": 3
   },
   "file_extension": ".py",
   "mimetype": "text/x-python",
   "name": "python",
   "nbconvert_exporter": "python",
   "pygments_lexer": "ipython3",
   "version": "3.11.5"
  }
 },
 "nbformat": 4,
 "nbformat_minor": 5
}
