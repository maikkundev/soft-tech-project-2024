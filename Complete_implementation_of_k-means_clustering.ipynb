{
 "cells": [
  {
   "cell_type": "code",
   "execution_count": 14,
   "id": "7821d1ba-25c5-4845-a932-58aae36b8e68",
   "metadata": {
    "tags": []
   },
   "outputs": [
    {
     "name": "stdin",
     "output_type": "stream",
     "text": [
      "Import a csv or an excel file:  1.csv\n",
      "Please enter the delimiter of the csv file. It must be either \";\" or \",\":  ;\n",
      "Specify the number of clusters \"k\" for the k-means clustering algorithm:  1\n"
     ]
    },
    {
     "name": "stdout",
     "output_type": "stream",
     "text": [
      "The number of clusters must be more than 1 and cannot exceed the number of instances. Please try again\n"
     ]
    },
    {
     "name": "stdin",
     "output_type": "stream",
     "text": [
      "Specify the number of clusters \"k\" for the k-means clustering algorithm:  5\n"
     ]
    },
    {
     "name": "stdout",
     "output_type": "stream",
     "text": [
      "Silhouette Score: 69.145\n"
     ]
    }
   ],
   "source": [
    "import os\n",
    "import pandas as pd\n",
    "import numpy as np\n",
    "from sklearn.preprocessing import StandardScaler\n",
    "from sklearn.decomposition import PCA\n",
    "from sklearn.cluster import KMeans\n",
    "from scipy.spatial.distance import pdist\n",
    "from scipy.cluster.hierarchy import fcluster\n",
    "from sklearn.metrics import silhouette_score, calinski_harabasz_score\n",
    "\n",
    "#Function to prompt the user to provide the filename.\n",
    "def get_filename():\n",
    "    \n",
    "    while True:\n",
    "        filename = input('Import a csv or an excel file: ')\n",
    "        if os.path.exists(filename):\n",
    "            if filename.split('.')[-1].lower() == 'csv' or filename.split('.')[-1].lower() == 'xlsx':\n",
    "                return filename\n",
    "            else:\n",
    "                print('Invalid file format. Please try again')\n",
    "        else:\n",
    "            print(f'Error: There is no file called: {filename}. Please try again.')\n",
    "    \n",
    "#Funtion to read the file based on its extension.    \n",
    "def read_file(filename,file_extension):\n",
    "    \n",
    "    if file_extension == 'csv':\n",
    "        while True:\n",
    "            delim = input('Please enter the delimiter of the csv file. It must be either \";\" or \",\": ')\n",
    "            if delim == ',' or delim == ';':\n",
    "                return pd.read_csv(filename, delimiter = delim)\n",
    "            else:\n",
    "                print('Invalid delimiter. Please try again.')\n",
    "    else:\n",
    "        return pd.read_excel(filename)\n",
    "\n",
    "#Function that fills the missing values with the mean of the variables\n",
    "def fill_missing_values(df):\n",
    "    df_filled = df.fillna(df.mean())\n",
    "    return df_filled   \n",
    "\n",
    "#Function that removes the duplicate instances\n",
    "def remove_duplicates(data):\n",
    "    df_without_duplicates = data.drop_duplicates()\n",
    "    return df_without_duplicates\n",
    "\n",
    "#Function that encodes categorical data into numerical\n",
    "def encode_categorical_data(data):\n",
    "    for column in data.columns[:]:\n",
    "        if data[column].dtype == 'object':\n",
    "            data[column] = pd.Categorical(data[column]).codes\n",
    "    return data\n",
    "\n",
    "#Function that removes the outliers\n",
    "def remove_outliers_iqr(df, iqr_factor=1.5):\n",
    "    conditions = []\n",
    "    for col in df.columns[:]:\n",
    "        lower_bound = df[col].quantile(5 / 100)\n",
    "        upper_bound = df[col].quantile(95 / 100)\n",
    "        condition = (df[col] < lower_bound) | (df[col] > upper_bound)\n",
    "        conditions.append(condition)\n",
    "        \n",
    "    combined_condition = ~pd.concat(conditions, axis=1).any(axis=1)\n",
    "    return df[combined_condition]\n",
    "\n",
    "#Function that performs dimensionality reduction using the PCA algorithm\n",
    "def perform_pca(data):\n",
    "    if len(data.columns) >10:\n",
    "        pca = PCA(n_components = 10)\n",
    "        pca.fit(data)\n",
    "        return pd.DataFrame(pca.transform(data))\n",
    "\n",
    "#Function for the preprocess of the data\n",
    "def data_preprocess_for_the_clustering_algorithms(data):\n",
    "    data = fill_missing_values(data)\n",
    "    data = remove_duplicates(data)\n",
    "    data = encode_categorical_data(data)\n",
    "    data = remove_outliers_iqr(data)\n",
    "    data = perform_pca(data)\n",
    "    return data\n",
    "\n",
    "#Function that implements the k-means clustering algorithm\n",
    "def kmeans_algorithm(data_frame):\n",
    "    X = data_preprocess_for_the_clustering_algorithms(data_frame.iloc[:, :-1])\n",
    "    while True:\n",
    "        try:\n",
    "            n_clusters = input('Specify the number of clusters \"k\" for the k-means clustering algorithm: ')\n",
    "            n_clusters = int(n_clusters)\n",
    "            if n_clusters <= len(X) and n_clusters > 1:\n",
    "                break\n",
    "            else:\n",
    "                print('The number of clusters must be more than 1 and cannot exceed the number of instances. Please try again')\n",
    "                continue\n",
    "        except:\n",
    "            print('Invalid input. Please try again')\n",
    "            \n",
    "    kmeans = KMeans(n_clusters=n_clusters)\n",
    "    kmeans.fit(X)\n",
    "    labels = kmeans.labels_\n",
    "    inertia = kmeans.inertia_\n",
    "    silhouette = round((silhouette_score(X, labels)*100),3)\n",
    "    print(f\"Silhouette Score: {silhouette}\")\n",
    "\n",
    "\n",
    "filename = get_filename()\n",
    "file_extension = filename.split('.')[-1].lower()\n",
    "data_frame = read_file(filename,file_extension)\n",
    "kmeans_algorithm(data_frame)"
   ]
  },
  {
   "cell_type": "code",
   "execution_count": null,
   "id": "4d714b51-3d5c-4c84-8fbe-4e111d45d9e4",
   "metadata": {},
   "outputs": [],
   "source": []
  }
 ],
 "metadata": {
  "kernelspec": {
   "display_name": "Python 3 (ipykernel)",
   "language": "python",
   "name": "python3"
  },
  "language_info": {
   "codemirror_mode": {
    "name": "ipython",
    "version": 3
   },
   "file_extension": ".py",
   "mimetype": "text/x-python",
   "name": "python",
   "nbconvert_exporter": "python",
   "pygments_lexer": "ipython3",
   "version": "3.11.5"
  }
 },
 "nbformat": 4,
 "nbformat_minor": 5
}
